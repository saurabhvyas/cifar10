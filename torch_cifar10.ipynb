{
 "cells": [
  {
   "cell_type": "code",
   "execution_count": 2,
   "metadata": {
    "collapsed": false,
    "deletable": true,
    "editable": true
   },
   "outputs": [
    {
     "data": {
      "text/plain": [
       "{\n",
       "  VolumetricMaxUnpooling : table: 0x41d348d8\n",
       "  ConcatTable : table: 0x40f2a188\n",
       "  MV : table: 0x40b26250\n",
       "  SpatialAveragePooling : table: 0x402f9238\n",
       "  SpatialConvolutionMM : table: 0x41101410\n",
       "  VolumetricReplicationPadding : table: 0x41d39e68\n",
       "  Reshape : table: 0x40594028\n",
       "  Jacobian : \n",
       "    {\n",
       "      forward : function: 0x40b2e8f0\n",
       "      testAllUpdate : function: 0x40b2eba0\n",
       "      testDiagHessianInput : function: 0x40b2eb20\n",
       "      testDiagHessianWeight : function: 0x40b2eb40\n",
       "      testDiagHessianBias : function: 0x40b2eb60\n",
       "      testDiagHessian : function: 0x40b2eb00\n",
       "      testJacobian : function: 0x40b2eaa0\n",
       "      testIO : function: 0x40b2eb80\n",
       "      testJacobianUpdateParameters : function: 0x40b2eae0\n",
       "      backwardDiagHessian : function: 0x40b2e978\n",
       "      testJacobianParameters : function: 0x40b2eac0\n",
       "      backwardUpdate : function: 0x40b2e8d0\n",
       "      forwardUpdate : function: 0x40b2ea80\n",
       "      backward : function: 0x40b2e878\n",
       "      linearModuleDiagHessian : function: 0x40b2e998\n",
       "    }\n",
       "  SparseLinear : table: 0x41ec3f70\n",
       "  SoftMarginCriterion : table: 0x4006e800\n",
       "  SpatialCrossMapLRN : table: 0x41fe6ae8\n",
       "  CAddTable : table: 0x40774278\n",
       "  TemporalConvolution : table: 0x402fee00\n",
       "  PairwiseDistance : table: 0x407833b0\n",
       "  SpatialLogSoftMax : table: 0x41d6bdf8\n",
       "  WeightedMSECriterion : table: 0x40b15aa0\n",
       "  Bottle : table: 0x4021e900\n",
       "  SelectTable : table: 0x40f2fab8\n",
       "  TemporalSubSampling : table: 0x40300fd8\n",
       "  PartialLinear : table: 0x416c3840\n",
       "  TanhShrink : table: 0x41d6cda0\n",
       "  MixtureTable : table: 0x40f33e08\n",
       "  Mul : table: 0x415f1ba8\n",
       "  LogSoftMax : table: 0x417f41d0\n",
       "  Min : table: 0x41674448\n",
       "  Exp : table: 0x417eede8\n",
       "  Add : table: 0x415f8830\n",
       "  CAdd : table: 0x415f65f0\n",
       "  MapTable : table: 0x40f3b6a0\n",
       "  SpatialConvolutionLocal : table: 0x410f61f0\n",
       "  Squeeze : table: 0x4165e928\n",
       "  AbsCriterion : table: 0x40070150\n",
       "  MultiCriterion : table: 0x4007b650\n",
       "  Max : table: 0x41676b28\n",
       "  MulConstant : table: 0x415f3240\n",
       "  Replicate : table: 0x41662bd0\n",
       "  View : table: 0x40e4cac0\n",
       "  VolumetricConvolution : table: 0x41d21440\n",
       "  SpatialSubSampling : table: 0x402e9eb8\n",
       "  DistanceRatioCriterion : table: 0x40b1e268\n",
       "  HardTanh : table: 0x417f1788\n",
       "  Transpose : table: 0x40787238\n",
       "  SplitTable : table: 0x40f2b270\n",
       "  DotProduct : table: 0x417e70b8\n",
       "  HingeEmbeddingCriterion : table: 0x4007f250\n",
       "  SpatialBatchNormalization : table: 0x41ff3020\n",
       "  DepthConcat : table: 0x40a94e88\n",
       "  CMulTable : table: 0x40777c80\n",
       "  SpatialAdaptiveMaxPooling : table: 0x402fb048\n",
       "  Parallel : table: 0x40dd88f0\n",
       "  SoftShrink : table: 0x41d74688\n",
       "  CMinTable : table: 0x4077c878\n",
       "  SpatialSubtractiveNormalization : table: 0x41fde228\n",
       "  GPU : table: 0x40f220d0\n",
       "  Log : table: 0x417f0128\n",
       "  VolumetricDropout : table: 0x40772a90\n",
       "  SpatialDropout : table: 0x415fee08\n",
       "  LeakyReLU : table: 0x41d807e0\n",
       "  VolumetricMaxPooling : table: 0x41d2bc10\n",
       "  TemporalDynamicKMaxPooling : table: 0x41fd7490\n",
       "  hessian : \n",
       "    {\n",
       "      enable : function: 0x41b930d8\n",
       "    }\n",
       "  Linear : table: 0x405a3dd0\n",
       "  Euclidean : table: 0x40780b38\n",
       "  CriterionTable : table: 0x40f34b40\n",
       "  SpatialMaxPooling : table: 0x402ecb50\n",
       "  MaskedSelect : table: 0x40787ba8\n",
       "  LayerNormalization : table: 0x4078d628\n",
       "  MultiMarginCriterion : table: 0x40067ca0\n",
       "  ELU : table: 0x41d7aa08\n",
       "  Threshold : table: 0x41d767d8\n",
       "  SpatialReflectionPadding : table: 0x41feb4f8\n",
       "  Copy : table: 0x41671ca0\n",
       "  Unsqueeze : table: 0x41660cc8\n",
       "  SpatialAdaptiveAveragePooling : table: 0x402fc988\n",
       "  VolumetricAveragePooling : table: 0x41d36608\n",
       "  WeightNorm : table: 0x40a9e818\n",
       "  StochasticGradient : table: 0x40b21f40\n",
       "  SpatialContrastiveNormalization : table: 0x41fe30a8"
      ]
     },
     "execution_count": 2,
     "metadata": {},
     "output_type": "execute_result"
    },
    {
     "data": {
      "text/plain": [
       "\n",
       "  Bilinear : table: 0x40590198\n",
       "  SpatialReplicationPadding : table: 0x41fed990\n",
       "  SpatialUpSamplingBilinear : table: 0x41ff27d8\n",
       "  Padding : table: 0x4078f668\n",
       "  Container : table: 0x416cc750\n",
       "  MarginRankingCriterion : table: 0x40084578\n",
       "  Module : table: 0x40a98070\n",
       "  VolumetricFullConvolution : table: 0x41d23e90\n",
       "  Concat : table: 0x40597cc8\n",
       "  CrossEntropyCriterion : table: 0x40b19300\n",
       "  LookupTable : table: 0x410ee2a0\n",
       "  SpatialSoftMax : table: 0x41d65f68\n",
       "  HardShrink : table: 0x41d73250\n",
       "  Abs : table: 0x41d6e058\n",
       "  SparseJacobian : \n",
       "    {\n",
       "      forward : function: 0x40b2eec8\n",
       "      testJacobian : function: 0x40b2c168\n",
       "      testIO : function: 0x40b2ee70\n",
       "      testAllUpdate : function: 0x40b2c0e0\n",
       "      testJacobianParameters : function: 0x40b2eee8\n",
       "      testJacobianUpdateParameters : function: 0x40b2b808\n",
       "      forwardUpdate : function: 0x40b2c148\n",
       "      backward : function: 0x40b2b7e8\n",
       "      backwardUpdate : function: 0x40b2eea8\n",
       "    }\n",
       "  SoftMin : table: 0x41d66c90\n",
       "  Maxout : table: 0x41d778a0\n",
       "  WeightedEuclidean : table: 0x407769f8\n",
       "  VolumetricBatchNormalization : table: 0x41d37440\n",
       "  ClassSimplexCriterion : table: 0x40077f50\n",
       "  testTHNN : function: 0x405a62b0\n",
       "  Contiguous : table: 0x4160d380\n",
       "  test : function: 0x405a6290\n",
       "  MM : table: 0x40b245b8\n",
       "  PixelShuffle : table: 0x40b200c0\n",
       "  ParallelCriterion : table: 0x40b1b9f0\n",
       "  GatedLinearUnit : table: 0x410e6eb0\n",
       "  BCECriterion : table: 0x40b18038\n",
       "  SpatialClassNLLCriterion : table: 0x40074e60\n",
       "  FlattenTable : table: 0x40f36550\n",
       "  L1Cost : table: 0x40b12cb0\n",
       "  PReLU : table: 0x41d7c318\n",
       "  utils : \n",
       "    {\n",
       "      contiguousView : function: 0x40228078\n",
       "      recursiveType : function: 0x40aaa848\n",
       "      recursiveCopy : function: 0x40dd8d78\n",
       "      recursiveResizeAs : function: 0x405a6c70\n",
       "      recursiveAdd : function: 0x40e54120\n",
       "      clear : function: 0x405a6c38\n",
       "      addSingletonDimension : function: 0x40228058\n",
       "      recursiveFill : function: 0x405a6c90\n"
      ]
     },
     "execution_count": 2,
     "metadata": {},
     "output_type": "execute_result"
    },
    {
     "data": {
      "text/plain": [
       "    }\n",
       "  AddConstant : table: 0x415fa490\n",
       "  SpatialDilatedMaxPooling : table: 0x402ef128\n",
       "  CMul : table: 0x416786a8\n",
       "  CosineDistance : table: 0x417e5ed0\n",
       "  Index : table: 0x407a4b08\n",
       "  Mean : table: 0x41679df8\n",
       "  MultiLabelSoftMarginCriterion : table: 0x40b11d70\n",
       "  Dropout : table: 0x415fcaa0\n",
       "  MultiLabelMarginCriterion : table: 0x4007e720\n",
       "  SoftPlus : table: 0x41d685f8\n",
       "  CosineEmbeddingCriterion : table: 0x40082828\n",
       "  L1HingeEmbeddingCriterion : table: 0x4007d3b8\n",
       "  DistKLDivCriterion : table: 0x40079ba0\n",
       "  SpatialDivisiveNormalization : table: 0x41fe2368\n",
       "  L1Penalty : table: 0x40b14768\n",
       "  ClassNLLCriterion : table: 0x400727f8\n",
       "  VolumetricDilatedMaxPooling : table: 0x41d2ea60\n",
       "  Sqrt : table: 0x41d71df8\n",
       "  Sequential : table: 0x4021f208\n",
       "  MarginCriterion : table: 0x4006d300\n",
       "  SmoothL1Criterion : table: 0x4006bbe8\n",
       "  Square : table: 0x41d70950\n",
       "  CDivTable : table: 0x40775840\n",
       "  MSECriterion : table: 0x400677f0\n",
       "  Criterion : table: 0x40f37908\n",
       "  NarrowTable : table: 0x40f38298\n",
       "  SoftMax : table: 0x41d65428\n",
       "  JoinTable : table: 0x40f2dbc8\n",
       "  Cosine : table: 0x417ee1e0\n",
       "  Clamp : table: 0x417f2500\n",
       "  Identity : table: 0x40f25fe8\n",
       "  ParallelTable : table: 0x40f24b68\n",
       "  SpatialFractionalMaxPooling : table: 0x402f4d98\n",
       "  TemporalMaxPooling : table: 0x41fd5470\n",
       "  LogSigmoid : table: 0x417f3cd8\n",
       "  Sum : table: 0x41678eb0\n",
       "  SoftSign : table: 0x41d6a430\n",
       "  CSubTable : table: 0x40778cc8\n",
       "  SpatialLPPooling : table: 0x402f6808\n",
       "  SpatialAutoCropMSECriterion : table: 0x4006abd0\n",
       "  SpatialDilatedConvolution : table: 0x402e7a70\n",
       "  Tanh : table: 0x41d6b940\n",
       "  ReLU6 : table: 0x41d79f40\n",
       "  CMaxTable : table: 0x4077ac00\n",
       "  Select : table: 0x40ddc1f0\n",
       "  BatchNormalization : table: 0x4078b670\n",
       "  Power : table: 0x41d6f590\n",
       "  VolumetricDilatedConvolution : table: 0x41d28e38\n",
       "  SpatialConvolution : table: 0x410f10a0\n",
       "  GradientReversal : table: 0x40790aa0\n",
       "  SpatialConvolutionMap : table: 0x410fd638\n",
       "  ReLU : table: 0x41d78728\n",
       "  RReLU : table: 0x41d7bcd8\n",
       "  Sigmoid : table: 0x417f30f8\n",
       "  SpatialFullConvolutionMap : table: 0x410fd948\n",
       "  SpatialFullConvolution : table: 0x410fb210\n",
       "  tables : \n",
       "    {\n",
       "      full : function: 0x402e4888\n",
       "      oneToOne : function: 0x402e48a8\n",
       "      random : function: 0x402e48c8\n",
       "    }\n",
       "  VolumetricFractionalMaxPooling : table: 0x41d32558\n",
       "  SpatialZeroPadding : table: 0x41fe9cf0\n",
       "  SpatialMaxUnpooling : table: 0x402f1098\n",
       "  Narrow : table: 0x407a3600\n",
       "  CReLU : table: 0x41d7ec60\n",
       "  SpatialUpSamplingNearest : table: 0x41fef508\n",
       "  Normalize : table: 0x417eaf00\n",
       "  TemporalRowConvolution : table: 0x41fdac70\n",
       "}\n"
      ]
     },
     "execution_count": 2,
     "metadata": {},
     "output_type": "execute_result"
    }
   ],
   "source": [
    "require 'nn'"
   ]
  },
  {
   "cell_type": "code",
   "execution_count": 3,
   "metadata": {
    "collapsed": true,
    "deletable": true,
    "editable": true
   },
   "outputs": [],
   "source": [
    "require 'paths'\n",
    "if (not paths.filep(\"cifar10torchsmall.zip\")) then\n",
    "    os.execute('wget -c https://s3.amazonaws.com/torch7/data/cifar10torchsmall.zip')\n",
    "    os.execute('unzip cifar10torchsmall.zip')\n",
    "end\n",
    "trainset = torch.load('cifar10-train.t7')\n",
    "testset = torch.load('cifar10-test.t7')\n",
    "classes = {'airplane', 'automobile', 'bird', 'cat',\n",
    "           'deer', 'dog', 'frog', 'horse', 'ship', 'truck'}\n"
   ]
  },
  {
   "cell_type": "code",
   "execution_count": 4,
   "metadata": {
    "collapsed": false,
    "deletable": true,
    "editable": true
   },
   "outputs": [
    {
     "data": {
      "text/plain": [
       "{\n",
       "  data : ByteTensor - size: 10000x3x32x32\n",
       "  label : ByteTensor - size: 10000\n",
       "}\n"
      ]
     },
     "execution_count": 4,
     "metadata": {},
     "output_type": "execute_result"
    }
   ],
   "source": [
    "print(trainset)\n"
   ]
  },
  {
   "cell_type": "code",
   "execution_count": 5,
   "metadata": {
    "collapsed": false,
    "deletable": true,
    "editable": true
   },
   "outputs": [
    {
     "data": {
      "text/plain": [
       " 10000\n",
       "     3\n",
       "    32\n",
       "    32\n",
       "[torch.LongStorage of size 4]\n",
       "\n"
      ]
     },
     "execution_count": 5,
     "metadata": {},
     "output_type": "execute_result"
    }
   ],
   "source": [
    "print(#trainset.data)"
   ]
  },
  {
   "cell_type": "code",
   "execution_count": 6,
   "metadata": {
    "collapsed": false,
    "deletable": true,
    "editable": true
   },
   "outputs": [
    {
     "data": {
      "image/png": "[encoded data removed]",
      "text/plain": [
       "Console does not support images"
      ]
     },
     "metadata": {
      "image/png": {
       "height": 32,
       "width": 32
      }
     },
     "output_type": "display_data"
    },
    {
     "data": {
      "text/plain": [
       "\n"
      ]
     },
     "execution_count": 6,
     "metadata": {},
     "output_type": "execute_result"
    }
   ],
   "source": [
    "itorch.image(trainset.data[100])"
   ]
  },
  {
   "cell_type": "code",
   "execution_count": 7,
   "metadata": {
    "collapsed": false,
    "deletable": true,
    "editable": true
   },
   "outputs": [
    {
     "data": {
      "text/plain": [
       "automobile\t\n"
      ]
     },
     "execution_count": 7,
     "metadata": {},
     "output_type": "execute_result"
    }
   ],
   "source": [
    "print(classes[trainset.label[100]])\n"
   ]
  },
  {
   "cell_type": "code",
   "execution_count": 8,
   "metadata": {
    "collapsed": true,
    "deletable": true,
    "editable": true
   },
   "outputs": [],
   "source": [
    "setmetatable(trainset, \n",
    "    {__index = function(t, i) \n",
    "                    return {t.data[i], t.label[i]} \n",
    "                end}\n",
    ");\n",
    "trainset.data = trainset.data:double()"
   ]
  },
  {
   "cell_type": "code",
   "execution_count": 9,
   "metadata": {
    "collapsed": true,
    "deletable": true,
    "editable": true
   },
   "outputs": [],
   "source": [
    "function trainset:size() \n",
    "    return self.data:size(1) \n",
    "end"
   ]
  },
  {
   "cell_type": "code",
   "execution_count": 10,
   "metadata": {
    "collapsed": false,
    "deletable": true,
    "editable": true
   },
   "outputs": [
    {
     "data": {
      "text/plain": [
       "10000\t\n"
      ]
     },
     "execution_count": 10,
     "metadata": {},
     "output_type": "execute_result"
    }
   ],
   "source": [
    "print(trainset:size())"
   ]
  },
  {
   "cell_type": "code",
   "execution_count": 11,
   "metadata": {
    "collapsed": false,
    "deletable": true,
    "editable": true
   },
   "outputs": [
    {
     "data": {
      "text/plain": [
       "{\n",
       "  1 : DoubleTensor - size: 3x32x32\n",
       "  2 : 2\n",
       "}\n"
      ]
     },
     "execution_count": 11,
     "metadata": {},
     "output_type": "execute_result"
    }
   ],
   "source": [
    "print(trainset[33])"
   ]
  },
  {
   "cell_type": "code",
   "execution_count": 12,
   "metadata": {
    "collapsed": false,
    "deletable": true,
    "editable": true
   },
   "outputs": [
    {
     "data": {
      "text/plain": [
       "\n"
      ]
     },
     "execution_count": 12,
     "metadata": {},
     "output_type": "execute_result"
    },
    {
     "data": {
      "image/png": "[encoded data removed]",
      "text/plain": [
       "Console does not support images"
      ]
     },
     "metadata": {
      "image/png": {
       "height": 32,
       "width": 32
      }
     },
     "output_type": "display_data"
    }
   ],
   "source": [
    "itorch.image(trainset[33][1])"
   ]
  },
  {
   "cell_type": "code",
   "execution_count": 13,
   "metadata": {
    "collapsed": true,
    "deletable": true,
    "editable": true
   },
   "outputs": [],
   "source": [
    "redChannel = trainset.data[{ {}, {1}, {}, {}  }]"
   ]
  },
  {
   "cell_type": "code",
   "execution_count": 14,
   "metadata": {
    "collapsed": false,
    "deletable": true,
    "editable": true
   },
   "outputs": [
    {
     "data": {
      "text/plain": [
       " 10000\n",
       "     1\n",
       "    32\n",
       "    32\n",
       "[torch.LongStorage of size 4]\n",
       "\n"
      ]
     },
     "execution_count": 14,
     "metadata": {},
     "output_type": "execute_result"
    }
   ],
   "source": [
    "print(#redChannel)"
   ]
  },
  {
   "cell_type": "code",
   "execution_count": 15,
   "metadata": {
    "collapsed": false,
    "deletable": true,
    "editable": true
   },
   "outputs": [
    {
     "data": {
      "text/plain": [
       "Channel 1, Mean: 125.83175029297\t\n"
      ]
     },
     "execution_count": 15,
     "metadata": {},
     "output_type": "execute_result"
    },
    {
     "data": {
      "text/plain": [
       "Channel 1, Standard Deviation: 63.143400842609\t\n"
      ]
     },
     "execution_count": 15,
     "metadata": {},
     "output_type": "execute_result"
    },
    {
     "data": {
      "text/plain": [
       "Channel 2, Mean: 123.26066621094\t\n"
      ]
     },
     "execution_count": 15,
     "metadata": {},
     "output_type": "execute_result"
    },
    {
     "data": {
      "text/plain": [
       "Channel 2, Standard Deviation: 62.369209019002\t\n"
      ]
     },
     "execution_count": 15,
     "metadata": {},
     "output_type": "execute_result"
    },
    {
     "data": {
      "text/plain": [
       "Channel 3, Mean: 114.03068681641\t\n"
      ]
     },
     "execution_count": 15,
     "metadata": {},
     "output_type": "execute_result"
    },
    {
     "data": {
      "text/plain": [
       "Channel 3, Standard Deviation: 66.965808411114\t\n"
      ]
     },
     "execution_count": 15,
     "metadata": {},
     "output_type": "execute_result"
    }
   ],
   "source": [
    "mean = {} -- store the mean, to normalize the test set in the future\n",
    "stdv  = {} -- store the standard-deviation for the future\n",
    "for i=1,3 do -- over each image channel\n",
    "    mean[i] = trainset.data[{ {}, {i}, {}, {}  }]:mean() -- mean estimation\n",
    "    print('Channel ' .. i .. ', Mean: ' .. mean[i])\n",
    "    trainset.data[{ {}, {i}, {}, {}  }]:add(-mean[i]) -- mean subtraction\n",
    "    \n",
    "    stdv[i] = trainset.data[{ {}, {i}, {}, {}  }]:std() -- std estimation\n",
    "    print('Channel ' .. i .. ', Standard Deviation: ' .. stdv[i])\n",
    "    trainset.data[{ {}, {i}, {}, {}  }]:div(stdv[i]) -- std scaling\n",
    "end"
   ]
  },
  {
   "cell_type": "code",
   "execution_count": 16,
   "metadata": {
    "collapsed": false,
    "deletable": true,
    "editable": true
   },
   "outputs": [],
   "source": [
    "net = nn.Sequential()\n",
    "net:add(nn.SpatialConvolution(3, 6, 5, 5)) -- 3 input image channels, 6 output channels, 5x5 convolution kernel\n",
    "net:add(nn.ReLU())                       -- non-linearity \n",
    "net:add(nn.SpatialMaxPooling(2,2,2,2))     -- A max-pooling operation that looks at 2x2 windows and finds the max.\n",
    "net:add(nn.SpatialConvolution(6, 16, 5, 5))\n",
    "net:add(nn.ReLU())                       -- non-linearity \n",
    "net:add(nn.SpatialMaxPooling(2,2,2,2))\n",
    "net:add(nn.View(16*5*5))                    -- reshapes from a 3D tensor of 16x5x5 into 1D tensor of 16*5*5\n",
    "net:add(nn.Linear(16*5*5, 120))             -- fully connected layer (matrix multiplication between input and weights)\n",
    "net:add(nn.ReLU())                       -- non-linearity \n",
    "net:add(nn.Linear(120, 84))\n",
    "net:add(nn.ReLU())                       -- non-linearity \n",
    "net:add(nn.Linear(84, 10))                   -- 10 is the number of outputs of the network (in this case, 10 digits)\n",
    "net:add(nn.LogSoftMax())                     -- converts the output to a log-probability. Useful for classification problems"
   ]
  },
  {
   "cell_type": "code",
   "execution_count": 17,
   "metadata": {
    "collapsed": true,
    "deletable": true,
    "editable": true
   },
   "outputs": [],
   "source": [
    "criterion = nn.ClassNLLCriterion()"
   ]
  },
  {
   "cell_type": "code",
   "execution_count": 18,
   "metadata": {
    "collapsed": true,
    "deletable": true,
    "editable": true
   },
   "outputs": [],
   "source": [
    "trainer = nn.StochasticGradient(net, criterion)\n",
    "trainer.learningRate = 0.001\n",
    "trainer.maxIteration = 5 -- just do 5 epochs of training."
   ]
  },
  {
   "cell_type": "code",
   "execution_count": 19,
   "metadata": {
    "collapsed": false,
    "deletable": true,
    "editable": true
   },
   "outputs": [
    {
     "data": {
      "text/plain": [
       "# StochasticGradient: training\t\n"
      ]
     },
     "execution_count": 19,
     "metadata": {},
     "output_type": "execute_result"
    },
    {
     "data": {
      "text/plain": [
       "# current error = 2.1745008441142\t\n"
      ]
     },
     "execution_count": 19,
     "metadata": {},
     "output_type": "execute_result"
    },
    {
     "data": {
      "text/plain": [
       "# current error = 1.8752680823948\t\n"
      ]
     },
     "execution_count": 19,
     "metadata": {},
     "output_type": "execute_result"
    },
    {
     "data": {
      "text/plain": [
       "# current error = 1.6804171509584\t\n"
      ]
     },
     "execution_count": 19,
     "metadata": {},
     "output_type": "execute_result"
    },
    {
     "data": {
      "text/plain": [
       "# current error = 1.5428910927465\t\n"
      ]
     },
     "execution_count": 19,
     "metadata": {},
     "output_type": "execute_result"
    },
    {
     "data": {
      "text/plain": [
       "# current error = 1.4442874652032\t\n",
       "# StochasticGradient: you have reached the maximum number of iterations\t\n",
       "# training error = 1.4442874652032\t\n",
       "\n"
      ]
     },
     "execution_count": 19,
     "metadata": {},
     "output_type": "execute_result"
    }
   ],
   "source": [
    "trainer:train(trainset)"
   ]
  },
  {
   "cell_type": "code",
   "execution_count": 20,
   "metadata": {
    "collapsed": false,
    "deletable": true,
    "editable": true
   },
   "outputs": [
    {
     "data": {
      "text/plain": [
       "horse\t\n"
      ]
     },
     "execution_count": 20,
     "metadata": {},
     "output_type": "execute_result"
    }
   ],
   "source": [
    "print(classes[testset.label[100]])"
   ]
  },
  {
   "cell_type": "code",
   "execution_count": 21,
   "metadata": {
    "collapsed": false,
    "deletable": true,
    "editable": true
   },
   "outputs": [],
   "source": [
    "testset.data = testset.data:double()   -- convert from Byte tensor to Double tensor\n",
    "for i=1,3 do -- over each image channel\n",
    "    testset.data[{ {}, {i}, {}, {}  }]:add(-mean[i]) -- mean subtraction    \n",
    "    testset.data[{ {}, {i}, {}, {}  }]:div(stdv[i]) -- std scaling\n",
    "end"
   ]
  },
  {
   "cell_type": "code",
   "execution_count": 22,
   "metadata": {
    "collapsed": false
   },
   "outputs": [
    {
     "data": {
      "text/plain": [
       "horse\t\n"
      ]
     },
     "execution_count": 22,
     "metadata": {},
     "output_type": "execute_result"
    },
    {
     "data": {
      "image/png": "[encoded data removed]",
      "text/plain": [
       "Console does not support images"
      ]
     },
     "metadata": {
      "image/png": {
       "height": 32,
       "width": 32
      }
     },
     "output_type": "display_data"
    },
    {
     "data": {
      "text/plain": [
       " 0.0240\n",
       " 0.0043\n",
       " 0.0852\n",
       " 0.1766\n",
       " 0.0601\n",
       " 0.0973\n",
       " 0.0459\n",
       " 0.3797\n",
       " 0.0077\n",
       " 0.1192\n",
       "[torch.DoubleTensor of size 10]\n",
       "\n",
       "airplane\t0.023976090182731\t\n",
       "automobile\t0.0042528902482791\t\n",
       "bird\t0.085235484971879\t\n",
       "cat\t0.17656023331081\t\n",
       "deer\t0.060109839108854\t\n",
       "dog\t0.097312080398426\t\n",
       "frog\t0.04588924419839\t\n",
       "horse\t0.37969706152354\t\n",
       "ship\t0.0077416956551622\t\n",
       "truck\t0.11922538040193\t\n"
      ]
     },
     "execution_count": 22,
     "metadata": {},
     "output_type": "execute_result"
    },
    {
     "data": {
      "text/plain": [
       "4606\t46.06 % \t\n"
      ]
     },
     "execution_count": 22,
     "metadata": {},
     "output_type": "execute_result"
    }
   ],
   "source": [
    "print(classes[testset.label[100]])\n",
    "itorch.image(testset.data[100])\n",
    "predicted = net:forward(testset.data[100])\n",
    "print(predicted:exp())\n",
    "for i=1,predicted:size(1) do\n",
    "    print(classes[i], predicted[i])\n",
    "end\n",
    "\n",
    "correct = 0\n",
    "for i=1,10000 do\n",
    "    local groundtruth = testset.label[i]\n",
    "    local prediction = net:forward(testset.data[i])\n",
    "    local confidences, indices = torch.sort(prediction, true)  -- true means sort in descending order\n",
    "    if groundtruth == indices[1] then\n",
    "        correct = correct + 1\n",
    "    end\n",
    "end\n",
    "\n",
    "print(correct, 100*correct/10000 .. ' % ')\n"
   ]
  },
  {
   "cell_type": "code",
   "execution_count": null,
   "metadata": {
    "collapsed": true
   },
   "outputs": [],
   "source": []
  }
 ],
 "metadata": {
  "kernelspec": {
   "display_name": "iTorch",
   "language": "lua",
   "name": "itorch"
  },
  "language_info": {
   "name": "lua",
   "version": "5.1"
  }
 },
 "nbformat": 4,
 "nbformat_minor": 2
}
